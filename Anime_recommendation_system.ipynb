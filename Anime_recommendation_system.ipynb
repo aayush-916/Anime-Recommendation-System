{
 "cells": [
  {
   "cell_type": "code",
   "execution_count": 22,
   "id": "042446fd-7e47-477b-91c0-1bd276ea04c5",
   "metadata": {},
   "outputs": [],
   "source": [
    "import pandas as pd\n",
    "from sklearn.feature_extraction.text import TfidfVectorizer\n",
    "from sklearn.metrics.pairwise import cosine_similarity\n",
    "import spacy\n",
    "import matplotlib.pyplot as plt"
   ]
  },
  {
   "cell_type": "code",
   "execution_count": 23,
   "id": "746f5b5c-b8be-4129-8f45-d39e86c4192e",
   "metadata": {},
   "outputs": [],
   "source": [
    "nlp = spacy.load('en_core_web_sm')"
   ]
  },
  {
   "cell_type": "code",
   "execution_count": 5,
   "id": "a86a244b-5a65-4696-9e2f-023cb3296c24",
   "metadata": {},
   "outputs": [
    {
     "data": {
      "text/html": [
       "<div>\n",
       "<style scoped>\n",
       "    .dataframe tbody tr th:only-of-type {\n",
       "        vertical-align: middle;\n",
       "    }\n",
       "\n",
       "    .dataframe tbody tr th {\n",
       "        vertical-align: top;\n",
       "    }\n",
       "\n",
       "    .dataframe thead th {\n",
       "        text-align: right;\n",
       "    }\n",
       "</style>\n",
       "<table border=\"1\" class=\"dataframe\">\n",
       "  <thead>\n",
       "    <tr style=\"text-align: right;\">\n",
       "      <th></th>\n",
       "      <th>anime_id</th>\n",
       "      <th>Name</th>\n",
       "      <th>English name</th>\n",
       "      <th>Other name</th>\n",
       "      <th>Score</th>\n",
       "      <th>Genres</th>\n",
       "      <th>Synopsis</th>\n",
       "      <th>Type</th>\n",
       "      <th>Episodes</th>\n",
       "      <th>Aired</th>\n",
       "      <th>...</th>\n",
       "      <th>Studios</th>\n",
       "      <th>Source</th>\n",
       "      <th>Duration</th>\n",
       "      <th>Rating</th>\n",
       "      <th>Rank</th>\n",
       "      <th>Popularity</th>\n",
       "      <th>Favorites</th>\n",
       "      <th>Scored By</th>\n",
       "      <th>Members</th>\n",
       "      <th>Image URL</th>\n",
       "    </tr>\n",
       "  </thead>\n",
       "  <tbody>\n",
       "    <tr>\n",
       "      <th>0</th>\n",
       "      <td>1</td>\n",
       "      <td>Cowboy Bebop</td>\n",
       "      <td>Cowboy Bebop</td>\n",
       "      <td>カウボーイビバップ</td>\n",
       "      <td>8.75</td>\n",
       "      <td>Action, Award Winning, Sci-Fi</td>\n",
       "      <td>Crime is timeless. By the year 2071, humanity ...</td>\n",
       "      <td>TV</td>\n",
       "      <td>26.0</td>\n",
       "      <td>Apr 3, 1998 to Apr 24, 1999</td>\n",
       "      <td>...</td>\n",
       "      <td>Sunrise</td>\n",
       "      <td>Original</td>\n",
       "      <td>24 min per ep</td>\n",
       "      <td>R - 17+ (violence &amp; profanity)</td>\n",
       "      <td>41.0</td>\n",
       "      <td>43</td>\n",
       "      <td>78525</td>\n",
       "      <td>914193.0</td>\n",
       "      <td>1771505</td>\n",
       "      <td>https://cdn.myanimelist.net/images/anime/4/196...</td>\n",
       "    </tr>\n",
       "  </tbody>\n",
       "</table>\n",
       "<p>1 rows × 24 columns</p>\n",
       "</div>"
      ],
      "text/plain": [
       "   anime_id          Name  English name Other name Score  \\\n",
       "0         1  Cowboy Bebop  Cowboy Bebop  カウボーイビバップ  8.75   \n",
       "\n",
       "                          Genres  \\\n",
       "0  Action, Award Winning, Sci-Fi   \n",
       "\n",
       "                                            Synopsis Type Episodes  \\\n",
       "0  Crime is timeless. By the year 2071, humanity ...   TV     26.0   \n",
       "\n",
       "                         Aired  ...  Studios    Source       Duration  \\\n",
       "0  Apr 3, 1998 to Apr 24, 1999  ...  Sunrise  Original  24 min per ep   \n",
       "\n",
       "                           Rating  Rank Popularity Favorites Scored By  \\\n",
       "0  R - 17+ (violence & profanity)  41.0         43     78525  914193.0   \n",
       "\n",
       "   Members                                          Image URL  \n",
       "0  1771505  https://cdn.myanimelist.net/images/anime/4/196...  \n",
       "\n",
       "[1 rows x 24 columns]"
      ]
     },
     "execution_count": 5,
     "metadata": {},
     "output_type": "execute_result"
    }
   ],
   "source": [
    "df = pd.read_csv(\"anime-dataset-2023.csv\")\n",
    "df.head(1)"
   ]
  },
  {
   "cell_type": "code",
   "execution_count": 7,
   "id": "5e660b15-df14-47d4-b83a-5954b46effa4",
   "metadata": {},
   "outputs": [],
   "source": [
    "df1 = df[[\"anime_id\",\"Name\",\"Score\",\"Genres\",\"Synopsis\",\"Type\",\"Episodes\",\"Studios\"]]"
   ]
  },
  {
   "cell_type": "code",
   "execution_count": 9,
   "id": "b0a7bcf7-2798-4218-8f16-c4d43b1aebfb",
   "metadata": {},
   "outputs": [
    {
     "data": {
      "text/html": [
       "<div>\n",
       "<style scoped>\n",
       "    .dataframe tbody tr th:only-of-type {\n",
       "        vertical-align: middle;\n",
       "    }\n",
       "\n",
       "    .dataframe tbody tr th {\n",
       "        vertical-align: top;\n",
       "    }\n",
       "\n",
       "    .dataframe thead th {\n",
       "        text-align: right;\n",
       "    }\n",
       "</style>\n",
       "<table border=\"1\" class=\"dataframe\">\n",
       "  <thead>\n",
       "    <tr style=\"text-align: right;\">\n",
       "      <th></th>\n",
       "      <th>anime_id</th>\n",
       "      <th>Name</th>\n",
       "      <th>Score</th>\n",
       "      <th>Genres</th>\n",
       "      <th>Synopsis</th>\n",
       "      <th>Type</th>\n",
       "      <th>Episodes</th>\n",
       "      <th>Studios</th>\n",
       "    </tr>\n",
       "  </thead>\n",
       "  <tbody>\n",
       "    <tr>\n",
       "      <th>0</th>\n",
       "      <td>1</td>\n",
       "      <td>Cowboy Bebop</td>\n",
       "      <td>8.75</td>\n",
       "      <td>Action, Award Winning, Sci-Fi</td>\n",
       "      <td>Crime is timeless. By the year 2071, humanity ...</td>\n",
       "      <td>TV</td>\n",
       "      <td>26.0</td>\n",
       "      <td>Sunrise</td>\n",
       "    </tr>\n",
       "  </tbody>\n",
       "</table>\n",
       "</div>"
      ],
      "text/plain": [
       "   anime_id          Name Score                         Genres  \\\n",
       "0         1  Cowboy Bebop  8.75  Action, Award Winning, Sci-Fi   \n",
       "\n",
       "                                            Synopsis Type Episodes  Studios  \n",
       "0  Crime is timeless. By the year 2071, humanity ...   TV     26.0  Sunrise  "
      ]
     },
     "execution_count": 9,
     "metadata": {},
     "output_type": "execute_result"
    }
   ],
   "source": [
    "df1.head(1)"
   ]
  },
  {
   "cell_type": "code",
   "execution_count": 10,
   "id": "ba3b62db-47ee-4fbd-a959-1286c03a468c",
   "metadata": {},
   "outputs": [
    {
     "data": {
      "text/plain": [
       "anime_id    0\n",
       "Name        0\n",
       "Score       0\n",
       "Genres      0\n",
       "Synopsis    0\n",
       "Type        0\n",
       "Episodes    0\n",
       "Studios     0\n",
       "dtype: int64"
      ]
     },
     "execution_count": 10,
     "metadata": {},
     "output_type": "execute_result"
    }
   ],
   "source": [
    "df1.isnull().sum()"
   ]
  },
  {
   "cell_type": "code",
   "execution_count": 40,
   "id": "c2b0ba80-bc5e-4ae1-a3f2-f5a0899f0d4a",
   "metadata": {},
   "outputs": [],
   "source": [
    "df1.to_csv(\"anime_data.csv\")"
   ]
  },
  {
   "cell_type": "code",
   "execution_count": 24,
   "id": "3d697958-3cae-400d-80f8-8d39e27e5749",
   "metadata": {},
   "outputs": [],
   "source": [
    "def preprocess(text):\n",
    "    doc = nlp(text.lower())  # Converting text to lowercase\n",
    "    tokens = [\n",
    "        token.lemma_ for token in doc\n",
    "        if not token.is_stop and token.is_alpha\n",
    "    ]\n",
    "    return ' '.join(tokens)"
   ]
  },
  {
   "cell_type": "code",
   "execution_count": 25,
   "id": "a66b0e12-eda8-41a9-9d75-70316d4466a1",
   "metadata": {},
   "outputs": [
    {
     "name": "stderr",
     "output_type": "stream",
     "text": [
      "C:\\Users\\aayus\\AppData\\Local\\Temp\\ipykernel_28568\\699593406.py:1: SettingWithCopyWarning: \n",
      "A value is trying to be set on a copy of a slice from a DataFrame.\n",
      "Try using .loc[row_indexer,col_indexer] = value instead\n",
      "\n",
      "See the caveats in the documentation: https://pandas.pydata.org/pandas-docs/stable/user_guide/indexing.html#returning-a-view-versus-a-copy\n",
      "  df1['combined_features'] = df1['Genres'] + \" \" + df1['Synopsis']+ \" \" + df1['Studios']\n",
      "C:\\Users\\aayus\\AppData\\Local\\Temp\\ipykernel_28568\\699593406.py:3: SettingWithCopyWarning: \n",
      "A value is trying to be set on a copy of a slice from a DataFrame.\n",
      "Try using .loc[row_indexer,col_indexer] = value instead\n",
      "\n",
      "See the caveats in the documentation: https://pandas.pydata.org/pandas-docs/stable/user_guide/indexing.html#returning-a-view-versus-a-copy\n",
      "  df1['processed_content'] = df1['combined_features'].apply(preprocess)\n"
     ]
    }
   ],
   "source": [
    "\n",
    "df1['combined_features'] = df1['Genres'] + \" \" + df1['Synopsis']+ \" \" + df1['Studios']\n",
    "\n",
    "df1['processed_content'] = df1['combined_features'].apply(preprocess)\n"
   ]
  },
  {
   "cell_type": "code",
   "execution_count": 42,
   "id": "e1ec5a19-fb36-4912-87f3-2917e078db83",
   "metadata": {},
   "outputs": [],
   "source": [
    "df1.to_csv(\"preprocessed_anime_dataset.csv\", index=False)"
   ]
  },
  {
   "cell_type": "code",
   "execution_count": 26,
   "id": "169178a9-f4d5-4182-837d-c62fb7173443",
   "metadata": {},
   "outputs": [],
   "source": [
    "\n",
    "tfidf = TfidfVectorizer()\n",
    "\n",
    "tfidf_matrix = tfidf.fit_transform(df1['processed_content'])\n"
   ]
  },
  {
   "cell_type": "code",
   "execution_count": 27,
   "id": "a427670d-848c-40a9-a417-adc70a1f5eea",
   "metadata": {},
   "outputs": [],
   "source": [
    "# Finding the cosine similarity matrix\n",
    "cosine_sim = cosine_similarity(tfidf_matrix, tfidf_matrix)"
   ]
  },
  {
   "cell_type": "code",
   "execution_count": 41,
   "id": "e22b2a86-c827-4ce7-94b0-49d50218e40b",
   "metadata": {},
   "outputs": [
    {
     "data": {
      "text/plain": [
       "array([[1.        , 0.28342319, 0.03822954, ..., 0.03881367, 0.        ,\n",
       "        0.        ],\n",
       "       [0.28342319, 1.        , 0.04794411, ..., 0.0628194 , 0.        ,\n",
       "        0.        ],\n",
       "       [0.03822954, 0.04794411, 1.        , ..., 0.05708258, 0.        ,\n",
       "        0.        ],\n",
       "       ...,\n",
       "       [0.03881367, 0.0628194 , 0.05708258, ..., 1.        , 0.03928656,\n",
       "        0.04169494],\n",
       "       [0.        , 0.        , 0.        , ..., 0.03928656, 1.        ,\n",
       "        0.3767577 ],\n",
       "       [0.        , 0.        , 0.        , ..., 0.04169494, 0.3767577 ,\n",
       "        1.        ]])"
      ]
     },
     "execution_count": 41,
     "metadata": {},
     "output_type": "execute_result"
    }
   ],
   "source": [
    "cosine_sim"
   ]
  },
  {
   "cell_type": "code",
   "execution_count": 29,
   "id": "bc0dc84a-b76d-432b-a821-844471607df9",
   "metadata": {},
   "outputs": [],
   "source": [
    "# Reset index to ensure it starts from 0\n",
    "df1 = df1.reset_index(drop=True)\n",
    "\n",
    "# Create a reverse mapping of indices and anime names\n",
    "indices = pd.Series(df1.index, index=df1['Name']).drop_duplicates()\n"
   ]
  },
  {
   "cell_type": "code",
   "execution_count": 30,
   "id": "08708a57-54b1-4138-91e6-69de60e9668f",
   "metadata": {},
   "outputs": [
    {
     "data": {
      "text/plain": [
       "Name\n",
       "Cowboy Bebop                       0\n",
       "Cowboy Bebop: Tengoku no Tobira    1\n",
       "Trigun                             2\n",
       "Witch Hunter Robin                 3\n",
       "Bouken Ou Beet                     4\n",
       "dtype: int64"
      ]
     },
     "execution_count": 30,
     "metadata": {},
     "output_type": "execute_result"
    }
   ],
   "source": [
    "indices.head()"
   ]
  },
  {
   "cell_type": "code",
   "execution_count": 38,
   "id": "3d9783bb-2253-49f1-8670-4ea85eef5b28",
   "metadata": {},
   "outputs": [],
   "source": [
    "def get_recommendations(anime_name, cosine_sim=cosine_sim):\n",
    "\n",
    "    try:\n",
    "        # Get the index of the anime that matches the name\n",
    "        idx = indices[anime_name]\n",
    "    except KeyError:\n",
    "        print(f\"Anime '{anime_name}' not found in the database.\")\n",
    "        return pd.DataFrame()\n",
    "    \n",
    "    # Get the pairwise similarity scores of all anime with the given anime\n",
    "    sim_scores = list(enumerate(cosine_sim[idx]))\n",
    "    \n",
    "    # Sort the anime based on the similarity scores\n",
    "    sim_scores = sorted(sim_scores, key=lambda x: x[1], reverse=True)\n",
    "    \n",
    "    # Get the scores of the top 6 most similar anime (excluding itself)\n",
    "    sim_scores = sim_scores[1:5]\n",
    "    \n",
    "    # Get the anime indices\n",
    "    anime_indices = [i[0] for i in sim_scores]\n",
    "    \n",
    "    # Return the top 5 most similar anime\n",
    "    return df[['Name', 'Score']].iloc[anime_indices].reset_index(drop=True)\n"
   ]
  },
  {
   "cell_type": "code",
   "execution_count": 39,
   "id": "83145008-ec5e-4d88-a6a9-d9305f2d1554",
   "metadata": {},
   "outputs": [
    {
     "name": "stdout",
     "output_type": "stream",
     "text": [
      "Top 5 recommendations for 'Naruto':\n",
      "\n",
      "                                         Name    Score\n",
      "0                               Naruto (2023)  UNKNOWN\n",
      "1                          Naruto: Shippuuden     8.26\n",
      "2             Boruto: Naruto Next Generations     6.06\n",
      "3  Naruto: Shippuuden Movie 6 - Road to Ninja     7.68\n"
     ]
    }
   ],
   "source": [
    "\n",
    "anime_input = 'Naruto' \n",
    "recommendations = get_recommendations(anime_input)\n",
    "\n",
    "if not recommendations.empty:\n",
    "    print(f\"Top 5 recommendations for '{anime_input}':\\n\")\n",
    "    print(recommendations)\n"
   ]
  },
  {
   "cell_type": "code",
   "execution_count": null,
   "id": "fb15cf5b-38ba-41ef-9944-211d97883cb2",
   "metadata": {},
   "outputs": [],
   "source": []
  }
 ],
 "metadata": {
  "kernelspec": {
   "display_name": "Python 3 (ipykernel)",
   "language": "python",
   "name": "python3"
  },
  "language_info": {
   "codemirror_mode": {
    "name": "ipython",
    "version": 3
   },
   "file_extension": ".py",
   "mimetype": "text/x-python",
   "name": "python",
   "nbconvert_exporter": "python",
   "pygments_lexer": "ipython3",
   "version": "3.12.0"
  },
  "widgets": {
   "application/vnd.jupyter.widget-state+json": {
    "state": {},
    "version_major": 2,
    "version_minor": 0
   }
  }
 },
 "nbformat": 4,
 "nbformat_minor": 5
}
